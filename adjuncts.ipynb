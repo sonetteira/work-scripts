{
 "cells": [
  {
   "cell_type": "code",
   "execution_count": null,
   "metadata": {},
   "outputs": [],
   "source": [
    "import pandas as pd\n",
    "#import data from file\n",
    "def parsefile(filename):\n",
    "    return pd.read_csv(filename, sep=',', header=0)\n",
    "\n",
    "#function taking a number representing desired table columns in output and input csv file name\n",
    "def csvToP(c,filename):\n",
    "    adjunctlist = parsefile(filename)\n",
    "    #fill nan\n",
    "    adjunctlist = adjunctlist.fillna('')\n",
    "    #build output\n",
    "    output = '<table><tbody><tr>\\n'\n",
    "    #number of output columns from input\n",
    "    cols = c\n",
    "    rows = len(adjunctlist)\n",
    "    #rows = 11\n",
    "    if rows < cols: #if there are less rows than desired columns, only build one\n",
    "        output += '<td><p>\\n'\n",
    "        for index in range(rows):\n",
    "            if index < rows: #don't exceed row number\n",
    "                ln = '<strong><a href=\"mailto:' + adjunctlist.at[index,'EMAIL_ADDRESS'] + '\">' + adjunctlist.at[index,'LAST_NAME'] + ', ' + adjunctlist.at[index,'FIRST_NAME'] + '</a></strong>&mdash;' + adjunctlist.at[index,'RANK'] + '<br />\\n'\n",
    "                output += ln\n",
    "        output = output[:-7] + '</p></td>\\n' #cut off final br tag\n",
    "        output += '</tr></tbody></table>'\n",
    "    else: #build table columns\n",
    "        for j in range(cols):\n",
    "            output += '<td><p>\\n'\n",
    "            for i in range(int(round(rows/cols))):\n",
    "                index = i+(int(round(rows/cols))*(j))\n",
    "                if index < rows: #don't exceed row number\n",
    "                    ln = '<strong><a href=\"mailto:' + adjunctlist.at[index,'EMAIL_ADDRESS'] + '\">' + adjunctlist.at[index,'LAST_NAME'] + ', ' + adjunctlist.at[index,'FIRST_NAME'] + '</a></strong>&mdash;' + adjunctlist.at[index,'RANK'] + '<br />\\n'\n",
    "                    output += ln\n",
    "            output = output[:-7] + '</p></td>\\n' #cut off final br tag\n",
    "        output += '</tr></tbody></table>'\n",
    "    return output"
   ]
  },
  {
   "cell_type": "code",
   "execution_count": null,
   "metadata": {
    "scrolled": true
   },
   "outputs": [],
   "source": [
    "#print(csvToP(2,'files/adjuncts.csv'))\n",
    "output = csvToP(2,'files/adjuncts.csv')\n",
    "file = open(\"output.html\",\"w\")\n",
    "file.write(ouput)\n",
    "file.close()"
   ]
  },
  {
   "cell_type": "code",
   "execution_count": null,
   "metadata": {
    "collapsed": true
   },
   "outputs": [],
   "source": []
  }
 ],
 "metadata": {
  "kernelspec": {
   "display_name": "Python 3",
   "language": "python",
   "name": "python3"
  },
  "language_info": {
   "codemirror_mode": {
    "name": "ipython",
    "version": 3
   },
   "file_extension": ".py",
   "mimetype": "text/x-python",
   "name": "python",
   "nbconvert_exporter": "python",
   "pygments_lexer": "ipython3",
   "version": "3.8.5"
  }
 },
 "nbformat": 4,
 "nbformat_minor": 2
}