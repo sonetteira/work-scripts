{
 "cells": [
  {
   "cell_type": "code",
   "execution_count": 20,
   "id": "bd110e9c",
   "metadata": {},
   "outputs": [],
   "source": [
    "import re"
   ]
  },
  {
   "cell_type": "code",
   "execution_count": 21,
   "id": "18ffe124",
   "metadata": {},
   "outputs": [],
   "source": [
    "file = open(\"files/lab.txt\", \"r\", encoding=\"utf-8\")\n",
    "lines = file.readlines()\n",
    "file.close()"
   ]
  },
  {
   "cell_type": "code",
   "execution_count": 22,
   "id": "115d6af9",
   "metadata": {},
   "outputs": [
    {
     "name": "stdout",
     "output_type": "stream",
     "text": [
      "# blank\n",
      "\n",
      "## Lab blank steps\n",
      "\n",
      "blank\n",
      "\n",
      "\n"
     ]
    }
   ],
   "source": [
    "output = \"\"\n",
    "\n",
    "# get lab title\n",
    "lab_title = lines[1].strip()\n",
    "# replace colon with dash\n",
    "lab_title = lab_title.replace(\":\", \" -\")\n",
    "lab_num = lab_title.split(\"-\")[0].strip().split(\" \")[-1]\n",
    "output += (f\"# {lab_title}\\n\\n\")\n",
    "output += (f'## Lab {lab_num} steps\\n\\n')\n",
    "\n",
    "# get lab task\n",
    "lab_task = lines[3].strip()\n",
    "output += (f\"{lab_task}\\n\\n\")\n",
    "print(output)"
   ]
  },
  {
   "cell_type": "code",
   "execution_count": 23,
   "id": "6fc4e637",
   "metadata": {},
   "outputs": [],
   "source": [
    "# find step 2 (will be become step 1)\n",
    "step2_index = 4\n",
    "for i, line in enumerate(lines):\n",
    "    if re.match(r\"2\\.\", line.strip()):\n",
    "        step2_index = i\n",
    "        break\n",
    "\n",
    "# find submission instruction line\n",
    "submission_index = step2_index\n",
    "for i, line in enumerate(lines[step2_index:], start=step2_index):\n",
    "    if re.match(r\"Submission Instructions:\", line.strip()):\n",
    "        submission_index = i\n",
    "        break"
   ]
  },
  {
   "cell_type": "code",
   "execution_count": 24,
   "id": "6c840328",
   "metadata": {},
   "outputs": [],
   "source": [
    "# convert steps to markdown\n",
    "for i in range(step2_index, submission_index):\n",
    "    line = lines[i].strip()\n",
    "    if re.match(r\"\\d+\\.\", line):\n",
    "        # numbered step\n",
    "        step_num = line.split(\".\")[0]\n",
    "        new_step_num = str(int(step_num.strip()) - 1)\n",
    "        step_text = \".\".join(line.split(\".\")[1:]).strip()\n",
    "        output += (f\"{new_step_num}. {step_text}\\n\")\n",
    "        letter_step = 1\n",
    "    elif re.match(r\"^[a-h]\\.\", line):\n",
    "        # lettered step\n",
    "        # this will fail after step h to avoid confusion with roman numerals\n",
    "        step_text = \".\".join(line.split(\".\")[1:]).strip()\n",
    "        output += (f\"\\t{letter_step}. {step_text}\\n\")\n",
    "        letter_step += 1\n",
    "        roman_step = 1\n",
    "    elif re.match(r\"^[ivx]+\\.\", line):\n",
    "        # roman numeral step\n",
    "        step_text = \".\".join(line.split(\".\")[1:]).strip()\n",
    "        output += (f\"\\t\\t{roman_step}. {step_text}\\n\")\n",
    "        roman_step += 1\n",
    "    else:\n",
    "        continue"
   ]
  },
  {
   "cell_type": "code",
   "execution_count": 25,
   "id": "a7353cd5",
   "metadata": {},
   "outputs": [],
   "source": [
    "# add submission instructions\n",
    "output += f\"\\nAlways run your code to test it.\\n\\nDon't forget to commit and publish your changes to GitHub.\\n\\n**Submission Instructions:** Submit the link to your GitHub repository on classes. It should look something like this: https://github.com/PaceCS-241/cs241-lab{lab_num}-username\""
   ]
  },
  {
   "cell_type": "code",
   "execution_count": 26,
   "id": "9e279638",
   "metadata": {},
   "outputs": [
    {
     "name": "stdout",
     "output_type": "stream",
     "text": [
      "# blank\n",
      "\n",
      "## Lab blank steps\n",
      "\n",
      "blank\n",
      "\n",
      "\n",
      "Always run your code to test it.\n",
      "\n",
      "Don't forget to commit and publish your changes to GitHub.\n",
      "\n",
      "**Submission Instructions:** Submit the link to your GitHub repository on classes. It should look something like this: https://github.com/PaceCS-241/cs241-labblank-username\n"
     ]
    }
   ],
   "source": [
    "print(output)"
   ]
  },
  {
   "cell_type": "code",
   "execution_count": 27,
   "id": "ec75ab29",
   "metadata": {},
   "outputs": [],
   "source": [
    "md_file = open(\"files/lab.md\", \"w\")\n",
    "md_file.write(output)\n",
    "\n",
    "md_file.close()"
   ]
  }
 ],
 "metadata": {
  "kernelspec": {
   "display_name": "Python 3",
   "language": "python",
   "name": "python3"
  },
  "language_info": {
   "codemirror_mode": {
    "name": "ipython",
    "version": 3
   },
   "file_extension": ".py",
   "mimetype": "text/x-python",
   "name": "python",
   "nbconvert_exporter": "python",
   "pygments_lexer": "ipython3",
   "version": "3.13.3"
  }
 },
 "nbformat": 4,
 "nbformat_minor": 5
}
