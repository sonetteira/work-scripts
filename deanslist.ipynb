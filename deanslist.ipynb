{
 "metadata": {
  "language_info": {
   "codemirror_mode": {
    "name": "ipython",
    "version": 3
   },
   "file_extension": ".py",
   "mimetype": "text/x-python",
   "name": "python",
   "nbconvert_exporter": "python",
   "pygments_lexer": "ipython3",
   "version": "3.8.5-final"
  },
  "orig_nbformat": 2,
  "kernelspec": {
   "name": "python3",
   "display_name": "Python 3",
   "language": "python"
  }
 },
 "nbformat": 4,
 "nbformat_minor": 2,
 "cells": [
  {
   "cell_type": "code",
   "execution_count": 125,
   "metadata": {},
   "outputs": [],
   "source": [
    "import pandas as pd\n",
    "#import data from file\n",
    "def parsefile(filename, h):\n",
    "    return pd.read_csv(filename, sep=',', header=h)"
   ]
  },
  {
   "cell_type": "code",
   "execution_count": 126,
   "metadata": {},
   "outputs": [],
   "source": [
    "def split(l, n):\n",
    "    q,r = divmod(len(l),n)\n",
    "    divisions = list(l[i * q + min(i, r):(i + 1) * q + min(i + 1, r)] for i in range(n))\n",
    "    return divisions"
   ]
  },
  {
   "cell_type": "code",
   "execution_count": 127,
   "metadata": {},
   "outputs": [],
   "source": [
    "def csvtohtml(columns,header,filename):\n",
    "    data = parsefile(filename, header)\n",
    "    data['FullName'] = list(zip(data['FirstMiName'], data['LASTNAME']))\n",
    "    honors = ['First','Second','Third']\n",
    "    desc = [x for x in data.DEANSLISTDESCRIPTION.unique() if not pd.isna(x)]\n",
    "    table = '<table id=\"congrats\"><tbody>\\n'\n",
    "    for h in honors:\n",
    "        label = list(filter(lambda x: h in x, desc))[0]\n",
    "        names = sorted(list(data.loc[data['DEANSLISTDESCRIPTION']==label]['FullName']), key=lambda x: x[1])\n",
    "        names = [f+\" \"+l for f,l in names]\n",
    "        #names = list(data.loc[data['DEANSLISTDESCRIPTION']==label]['FullName'])\n",
    "        table = table + '<tr><th colspan=\"3\"><p>' + label + '</p></th></tr>\\n'\n",
    "        table = table + '<tr>'\n",
    "        if len(names) > columns:\n",
    "            cols = split(names, columns)\n",
    "            for i in range(columns):\n",
    "                table = table + '<td><p>'\n",
    "                table = table + \"<br/>\\n\".join(cols[i])\n",
    "                table = table + '</p></td>'\n",
    "        else: #too short, just make one column\n",
    "            table = table + '<td><p>'\n",
    "            table = table + \"<br/>\\n\".join(names)\n",
    "            table = table + '</p></td>'\n",
    "        table = table + '</tr>\\n'\n",
    "    table = table + '</tbody></table>'\n",
    "    return table"
   ]
  },
  {
   "cell_type": "code",
   "execution_count": 128,
   "metadata": {},
   "outputs": [],
   "source": [
    "output = csvtohtml(3, 1, \"files/deans_list.csv\")\n",
    "file = open(\"output.html\",\"w\")\n",
    "file.write(output)\n",
    "file.close()"
   ]
  },
  {
   "cell_type": "code",
   "execution_count": null,
   "metadata": {},
   "outputs": [],
   "source": []
  }
 ]
}